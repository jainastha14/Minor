{
 "cells": [
  {
   "cell_type": "code",
   "execution_count": 9,
   "id": "d48dfc8e-374d-4d16-9f07-440e1366d59f",
   "metadata": {},
   "outputs": [],
   "source": [
    "from django.core.management import call_command\n",
    "\n",
    "call_command('startproject', 'myproject')"
   ]
  },
  {
   "cell_type": "code",
   "execution_count": 10,
   "id": "4e9110e2-b000-4809-b882-5f0af03a975a",
   "metadata": {},
   "outputs": [],
   "source": [
    "call_command('startapp', 'myapp')"
   ]
  },
  {
   "cell_type": "code",
   "execution_count": null,
   "id": "3a12314e-05c3-4b97-b3ab-540bae3811ba",
   "metadata": {},
   "outputs": [
    {
     "name": "stdout",
     "output_type": "stream",
     "text": [
      "C:\\Users\\dell\\MINOR\\myproject\n"
     ]
    }
   ],
   "source": [
    "%cd myproject\n",
    "!python manage.py runserver\n"
   ]
  },
  {
   "cell_type": "code",
   "execution_count": null,
   "id": "96317d55-30a5-4e0f-953d-d0b1b7170fcb",
   "metadata": {},
   "outputs": [],
   "source": []
  }
 ],
 "metadata": {
  "kernelspec": {
   "display_name": "Python 3 (ipykernel)",
   "language": "python",
   "name": "python3"
  },
  "language_info": {
   "codemirror_mode": {
    "name": "ipython",
    "version": 3
   },
   "file_extension": ".py",
   "mimetype": "text/x-python",
   "name": "python",
   "nbconvert_exporter": "python",
   "pygments_lexer": "ipython3",
   "version": "3.9.13"
  }
 },
 "nbformat": 4,
 "nbformat_minor": 5
}
