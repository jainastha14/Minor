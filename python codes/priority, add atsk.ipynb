{
 "cells": [
  {
   "cell_type": "code",
   "execution_count": 1,
   "id": "f306f6d9-ee43-494d-9d32-8b61988fbd3a",
   "metadata": {},
   "outputs": [
    {
     "name": "stdout",
     "output_type": "stream",
     "text": [
      "\n",
      "Options:\n",
      "1. Add a task\n",
      "2. Remove a task\n",
      "3. Mark a task as completed\n",
      "4. List tasks\n",
      "5. Quit\n"
     ]
    },
    {
     "name": "stdin",
     "output_type": "stream",
     "text": [
      "Enter your choice:  1\n",
      "Enter task description:  Add a task\n",
      "Enter task priority (high, medium, low):  low\n",
      "Enter due date (YYYY-MM-DD):  2023-11-11\n"
     ]
    },
    {
     "name": "stdout",
     "output_type": "stream",
     "text": [
      "Task added: Add a task\n",
      "\n",
      "Options:\n",
      "1. Add a task\n",
      "2. Remove a task\n",
      "3. Mark a task as completed\n",
      "4. List tasks\n",
      "5. Quit\n"
     ]
    },
    {
     "name": "stdin",
     "output_type": "stream",
     "text": [
      "Enter your choice:  5\n"
     ]
    }
   ],
   "source": [
    "import json\n",
    "import os\n",
    "from datetime import datetime\n",
    "\n",
    "# Function to load tasks from a JSON file\n",
    "def load_tasks():\n",
    "    if os.path.exists('tasks.json'):\n",
    "        with open('tasks.json', 'r') as file:\n",
    "            return json.load(file)\n",
    "    else:\n",
    "        return []\n",
    "\n",
    "# Function to save tasks to a JSON file\n",
    "def save_tasks(tasks):\n",
    "    with open('tasks.json', 'w') as file:\n",
    "        json.dump(tasks, file, indent=4)\n",
    "\n",
    "# Function to add a task\n",
    "def add_task(tasks, description, priority, due_date):\n",
    "    task = {\n",
    "        'description': description,\n",
    "        'priority': priority,\n",
    "        'due_date': due_date,\n",
    "        'completed': False\n",
    "    }\n",
    "    tasks.append(task)\n",
    "    save_tasks(tasks)\n",
    "    print(f\"Task added: {description}\")\n",
    "\n",
    "# Function to remove a task\n",
    "def remove_task(tasks, index):\n",
    "    if index < 0 or index >= len(tasks):\n",
    "        print(\"Invalid task number.\")\n",
    "        return\n",
    "    removed_task = tasks.pop(index)\n",
    "    save_tasks(tasks)\n",
    "    print(f\"Task removed: {removed_task['description']}\")\n",
    "\n",
    "# Function to mark a task as completed\n",
    "def complete_task(tasks, index):\n",
    "    if index < 0 or index >= len(tasks):\n",
    "        print(\"Invalid task number.\")\n",
    "        return\n",
    "    tasks[index]['completed'] = True\n",
    "    save_tasks(tasks)\n",
    "    print(f\"Task marked as completed: {tasks[index]['description']}\")\n",
    "\n",
    "# Function to display tasks\n",
    "def display_tasks(tasks):\n",
    "    if not tasks:\n",
    "        print(\"No tasks found.\")\n",
    "    else:\n",
    "        print(\"Tasks:\")\n",
    "        for i, task in enumerate(tasks):\n",
    "            status = \"Done\" if task['completed'] else \"Not Done\"\n",
    "            print(f\"{i + 1}. {task['description']} (Priority: {task['priority']}, Due Date: {task['due_date']}, Status: {status})\")\n",
    "\n",
    "# Main function\n",
    "def main():\n",
    "    tasks = load_tasks()\n",
    "\n",
    "    while True:\n",
    "        print(\"\\nOptions:\")\n",
    "        print(\"1. Add a task\")\n",
    "        print(\"2. Remove a task\")\n",
    "        print(\"3. Mark a task as completed\")\n",
    "        print(\"4. List tasks\")\n",
    "        print(\"5. Quit\")\n",
    "\n",
    "        choice = input(\"Enter your choice: \")\n",
    "\n",
    "        if choice == '1':\n",
    "            description = input(\"Enter task description: \")\n",
    "            priority = input(\"Enter task priority (high, medium, low): \")\n",
    "            due_date = input(\"Enter due date (YYYY-MM-DD): \")\n",
    "            add_task(tasks, description, priority, due_date)\n",
    "        elif choice == '2':\n",
    "            index = int(input(\"Enter the task number to remove: \")) - 1\n",
    "            remove_task(tasks, index)\n",
    "        elif choice == '3':\n",
    "            index = int(input(\"Enter the task number to mark as completed: \")) - 1\n",
    "            complete_task(tasks, index)\n",
    "        elif choice == '4':\n",
    "            display_tasks(tasks)\n",
    "        elif choice == '5':\n",
    "            break\n",
    "        else:\n",
    "            print(\"Invalid choice. Please try again.\")\n",
    "\n",
    "if __name__ == \"__main__\":\n",
    "    main()"
   ]
  },
  {
   "cell_type": "code",
   "execution_count": null,
   "id": "b27a3d39-6649-42b8-853d-a980e04c0e09",
   "metadata": {},
   "outputs": [],
   "source": []
  }
 ],
 "metadata": {
  "kernelspec": {
   "display_name": "Python 3 (ipykernel)",
   "language": "python",
   "name": "python3"
  },
  "language_info": {
   "codemirror_mode": {
    "name": "ipython",
    "version": 3
   },
   "file_extension": ".py",
   "mimetype": "text/x-python",
   "name": "python",
   "nbconvert_exporter": "python",
   "pygments_lexer": "ipython3",
   "version": "3.9.13"
  }
 },
 "nbformat": 4,
 "nbformat_minor": 5
}
